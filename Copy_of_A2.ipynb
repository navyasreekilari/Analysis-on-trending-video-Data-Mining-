{
  "nbformat": 4,
  "nbformat_minor": 0,
  "metadata": {
    "colab": {
      "provenance": [],
      "authorship_tag": "ABX9TyPE+OOntMSfMHcJdCCsIvru",
      "include_colab_link": true
    },
    "kernelspec": {
      "name": "python3",
      "display_name": "Python 3"
    },
    "language_info": {
      "name": "python"
    }
  },
  "cells": [
    {
      "cell_type": "markdown",
      "metadata": {
        "id": "view-in-github",
        "colab_type": "text"
      },
      "source": [
        "<a href=\"https://colab.research.google.com/github/navyasreekilari/Analysis-on-trending-video-Data-Mining-/blob/main/Copy_of_A2.ipynb\" target=\"_parent\"><img src=\"https://colab.research.google.com/assets/colab-badge.svg\" alt=\"Open In Colab\"/></a>"
      ]
    },
    {
      "cell_type": "code",
      "execution_count": null,
      "metadata": {
        "colab": {
          "base_uri": "https://localhost:8080/"
        },
        "id": "H4SUzTM66azL",
        "outputId": "cb66e439-5d40-451f-c400-0363366e2d17"
      },
      "outputs": [
        {
          "output_type": "stream",
          "name": "stdout",
          "text": [
            "TPR-values== [1.0, 1.0, 1.0, 0.9090909090909091, 0.9090909090909091, 0.8181818181818182, 0.8181818181818182, 0.8181818181818182, 0.7272727272727273, 0.6363636363636364, 0.6363636363636364, 0.5454545454545454, 0.45454545454545453, 0.36363636363636365, 0.2727272727272727, 0.2727272727272727, 0.18181818181818182, 0.09090909090909091]\n",
            "FPR-values== [1.0, 0.8571428571428571, 0.7142857142857143, 0.7142857142857143, 0.5714285714285714, 0.5714285714285714, 0.42857142857142855, 0.2857142857142857, 0.2857142857142857, 0.2857142857142857, 0.14285714285714285, 0.14285714285714285, 0.14285714285714285, 0.14285714285714285, 0.14285714285714285, 0.0, 0.0, 0.0]\n"
          ]
        }
      ],
      "source": [
        "import matplotlib.pyplot as plt\n",
        "id = ['O', 'J', 'D', 'A', 'I', 'G', 'B', 'M', 'F', 'L', 'K', 'P', 'Q', 'C', 'N', 'H', 'R', 'E']\n",
        "Labels = ['a', 'a', 'd', 'a', 'd', 'a', 'a', 'd', 'd', 'a', 'd', 'd', 'd', 'd', 'a', 'd', 'd', 'd']\n",
        "scores = [0.03, 0.08, 0.10, 0.11, 0.22, 0.32, 0.35, 0.42, 0.44, 0.48, 0.56, 0.65, 0.71, 0.72, 0.73, 0.80, 0.82, 0.99]\n",
        "TPR_Values = []\n",
        "FPR_Values = []\n",
        "for threshold in scores:\n",
        "    TP = sum((scores[i] >= threshold) and (Labels[i] == 'd') for i in range(len(id)))\n",
        "    FP = sum((scores[i] >= threshold) and (Labels[i] == 'a') for i in range(len(id)))\n",
        "    TN = sum((scores[i] < threshold) and (Labels[i] == 'a') for i in range(len(id)))\n",
        "    FN = sum((scores[i] < threshold) and (Labels[i] == 'd') for i in range(len(id)))\n",
        "    TPR = TP / (TP + FN)\n",
        "    FPR = FP / (FP + TN)\n",
        "    TPR_Values.append(TPR)\n",
        "    FPR_Values.append(FPR)\n",
        "print('TPR-values==',TPR_Values)\n",
        "print('FPR-values==',FPR_Values)"
      ]
    },
    {
      "cell_type": "markdown",
      "source": [
        "Above are the caluclated TPR and FPR values for all values."
      ],
      "metadata": {
        "id": "yhnYu0e98IEd"
      }
    },
    {
      "cell_type": "code",
      "source": [
        "plt.figure(figsize=(8,5))\n",
        "plt.plot(FPR_Values, TPR_Values, '-*')\n",
        "plt.xlabel('FPR')\n",
        "plt.ylabel('TPR')\n",
        "plt.title('ROC curve')\n",
        "plt.show()"
      ],
      "metadata": {
        "colab": {
          "base_uri": "https://localhost:8080/",
          "height": 350
        },
        "id": "dxluUyjn8EUG",
        "outputId": "34948fe7-15b4-417e-b518-28fba36f6dd9"
      },
      "execution_count": null,
      "outputs": [
        {
          "output_type": "display_data",
          "data": {
            "text/plain": [
              "<Figure size 576x360 with 1 Axes>"
            ],
            "image/png": "[encoded data removed]"
          },
          "metadata": {
            "needs_background": "light"
          }
        }
      ]
    },
    {
      "cell_type": "markdown",
      "source": [
        "Above is the ROC curve obtained from FPR on x-axis and TPR on y-axis."
      ],
      "metadata": {
        "id": "9vjs17V-82P2"
      }
    },
    {
      "cell_type": "markdown",
      "source": [
        "1.3)\n",
        "\n",
        "Yes, by selecting additional threshold values, we may build the ROC curve with a higher level of resolution. As we utilize additional threshold values, the ROC curve becomes more accurate. There is a limit to the number of threshold values we can employ, though, because the curve needs a sufficient number of data points to be properly represented. Increasing the number of threshold values close to the decision border by using a logarithmic scale or a set number of threshold values is a common approach in practice."
      ],
      "metadata": {
        "id": "3Fs53cBj-d_Y"
      }
    },
    {
      "cell_type": "code",
      "source": [
        "from sklearn.metrics import auc\n",
        "AUC_Score = auc(FPR_Values, TPR_Values)\n",
        "print(\"AUC_Value=\", AUC_Score)"
      ],
      "metadata": {
        "colab": {
          "base_uri": "https://localhost:8080/"
        },
        "id": "qPsYPGwM_YJ5",
        "outputId": "61de6699-ba7f-40b8-91a5-891c77915a3e"
      },
      "execution_count": null,
      "outputs": [
        {
          "output_type": "stream",
          "name": "stdout",
          "text": [
            "AUC_Value= 0.7792207792207793\n"
          ]
        }
      ]
    },
    {
      "cell_type": "markdown",
      "source": [
        "Above, is the caluclated AUC value."
      ],
      "metadata": {
        "id": "thzZlMg__um7"
      }
    },
    {
      "cell_type": "code",
      "source": [
        "import seaborn as sns\n",
        "df = sns.load_dataset('iris')\n",
        "df\n",
        "import pandas as pd\n",
        "import numpy as np\n",
        "from sklearn.model_selection import train_test_split, KFold\n",
        "from sklearn.preprocessing import StandardScaler\n",
        "from sklearn.metrics import accuracy_score\n",
        "from sklearn.neighbors import KNeighborsClassifier\n",
        "df = sns.load_dataset('iris')\n",
        "X = df[['petal_width', 'petal_length', 'sepal_width', 'sepal_length']].values\n",
        "y = df['species'].values\n",
        "x_tr, x_te, y_tr, y_te = train_test_split(X, y, test_size=0.2, random_state=0)\n",
        "sclr = StandardScaler()\n",
        "x_tr = sclr.fit_transform(x_tr)\n",
        "x_te = sclr.transform(x_te)\n",
        "KNN = KNeighborsClassifier(n_neighbors=5)\n",
        "kf = KFold(n_splits=5, shuffle=True, random_state=45)\n",
        "accurate_scores = []\n",
        "for train_index, val_index in kf.split(x_tr):\n",
        "    X_fold_train, X_fold_val = x_tr[train_index], x_tr[val_index]\n",
        "    y_fold_train, y_fold_val = y_tr[train_index], y_tr[val_index]\n",
        "    KNN.fit(X_fold_train, y_fold_train)\n",
        "    y_pred = KNN.predict(X_fold_val)\n",
        "    accurate_score = accuracy_score(y_fold_val, y_pred)\n",
        "    accurate_scores.append(accurate_score)\n",
        "print('Scores accurate value are:', accurate_scores)\n",
        "mean_of_score = np.mean(accurate_scores)\n",
        "print(\"Mean value of all accuracy scores is {:.2f}\".format(mean_of_score))"
      ],
      "metadata": {
        "colab": {
          "base_uri": "https://localhost:8080/"
        },
        "id": "XlI1q3LAAsvn",
        "outputId": "2b370ed0-7066-4ab2-82fb-ff6a48bbb933"
      },
      "execution_count": null,
      "outputs": [
        {
          "output_type": "stream",
          "name": "stdout",
          "text": [
            "Scores accurate value are: [0.9583333333333334, 0.8333333333333334, 1.0, 0.9166666666666666, 1.0]\n",
            "Mean value of all accuracy scores is 0.94\n"
          ]
        }
      ]
    },
    {
      "cell_type": "markdown",
      "source": [
        "Above, is the implememnted KNN method on classifying the data."
      ],
      "metadata": {
        "id": "EFxucn3oL2Ya"
      }
    }
  ]
}